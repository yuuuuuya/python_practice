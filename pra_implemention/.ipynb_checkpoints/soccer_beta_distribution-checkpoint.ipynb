{
 "cells": [
  {
   "cell_type": "code",
   "execution_count": 8,
   "metadata": {
    "collapsed": false
   },
   "outputs": [],
   "source": [
    "from matplotlib.pyplot import hist, plot, show\n",
    "from matplotlib import pyplot as plt\n",
    "%matplotlib inline\n",
    "import sys\n",
    "sys.path.append(\"../src\")\n",
    "import util\n",
    "import importlib\n",
    "importlib.reload(util)\n",
    "import numpy as np \n",
    "from scipy.stats import beta"
   ]
  },
  {
   "cell_type": "code",
   "execution_count": 9,
   "metadata": {
    "collapsed": false
   },
   "outputs": [],
   "source": [
    "myalpha0 = 20\n",
    "mybeta0  = 10\n",
    "\n",
    "myalpha1= 4\n",
    "mybeta1 = 2\n",
    "\n",
    "myalpha2= 3\n",
    "mybeta2 = 4\n",
    "\n",
    "myN = 100000"
   ]
  },
  {
   "cell_type": "code",
   "execution_count": 10,
   "metadata": {
    "collapsed": false
   },
   "outputs": [],
   "source": [
    "q0=beta(myalpha0,mybeta0 )#beta(a,b)パラメータa,bのもとでのベータ分布。\n",
    "q1=beta(myalpha1,mybeta1 )#beta(a,b)パラメータa,bのもとでのベータ分布。\n",
    "q2=beta(myalpha2,mybeta2 )\n",
    "\n",
    "obs0=q0.rvs(myN)\n",
    "obs1=q1.rvs(myN)\n",
    "obs2=q2.rvs(myN)"
   ]
  },
  {
   "cell_type": "code",
   "execution_count": 11,
   "metadata": {
    "collapsed": false
   },
   "outputs": [
    {
     "data": {
      "text/plain": [
       "(0, 5)"
      ]
     },
     "execution_count": 11,
     "metadata": {},
     "output_type": "execute_result"
    },
    {
     "data": {
      "image/png": "[encoded data removed]",
      "text/plain": [
       "<matplotlib.figure.Figure at 0x276b7ff7a20>"
      ]
     },
     "metadata": {},
     "output_type": "display_data"
    }
   ],
   "source": [
    "plt.hist(obs0,bins=50,normed=True, alpha = 0.4, color = 'r')#alpha=0.4は薄さを表している。\n",
    "plt.hist(obs1,bins=50,normed=True, alpha = 0.4, color = 'b')\n",
    "\n",
    "plt.xlim(0,1)\n",
    "plt.ylim(0,5)"
   ]
  },
  {
   "cell_type": "code",
   "execution_count": 12,
   "metadata": {
    "collapsed": false
   },
   "outputs": [
    {
     "data": {
      "text/plain": [
       "<matplotlib.text.Text at 0x276b93d6eb8>"
      ]
     },
     "execution_count": 12,
     "metadata": {},
     "output_type": "execute_result"
    },
    {
     "data": {
      "image/png": "[encoded data removed]",
      "text/plain": [
       "<matplotlib.figure.Figure at 0x276b78e5390>"
      ]
     },
     "metadata": {},
     "output_type": "display_data"
    }
   ],
   "source": [
    "plt.hist(obs2,bins=50,normed=True, alpha = 0.4, color = 'g')\n",
    "\n",
    "plt.xlim(0,1)\n",
    "plt.ylim(0,5)\n",
    "plt.title('p(\\u03bc)')#\\u03bcはμの表示の仕方。"
   ]
  },
  {
   "cell_type": "code",
   "execution_count": 14,
   "metadata": {
    "collapsed": false
   },
   "outputs": [
    {
     "data": {
      "text/plain": [
       "(0, 5)"
      ]
     },
     "execution_count": 14,
     "metadata": {},
     "output_type": "execute_result"
    },
    {
     "data": {
      "image/png": "[encoded data removed]",
      "text/plain": [
       "<matplotlib.figure.Figure at 0x276b78e5860>"
      ]
     },
     "metadata": {},
     "output_type": "display_data"
    }
   ],
   "source": [
    "myalpha2= 3\n",
    "mybeta2 = 4\n",
    "\n",
    "myalpha3= 15\n",
    "mybeta3 = 5\n",
    "\n",
    "myalpha4= 18\n",
    "mybeta4 = 9\n",
    "\n",
    "q2=beta(myalpha2,mybeta2 )\n",
    "q3=beta(myalpha3,mybeta3 )\n",
    "q4=beta(myalpha4,mybeta4 )\n",
    "\n",
    "obs2=q2.rvs(myN)\n",
    "obs3=q3.rvs(myN)\n",
    "obs4=q4.rvs(myN)\n",
    "\n",
    "plt.hist(obs2,bins=50,normed=True, alpha = 0.4, color = 'g')\n",
    "plt.hist(obs3,bins=50,normed=True, alpha = 0.4, color = 'b')\n",
    "plt.hist(obs4,bins=50,normed=True, alpha = 0.4, color = 'r')\n",
    "\n",
    "plt.xlim(0,1)\n",
    "plt.ylim(0,5)"
   ]
  },
  {
   "cell_type": "code",
   "execution_count": null,
   "metadata": {
    "collapsed": true
   },
   "outputs": [],
   "source": []
  }
 ],
 "metadata": {
  "kernelspec": {
   "display_name": "Python 3",
   "language": "python",
   "name": "python3"
  },
  "language_info": {
   "codemirror_mode": {
    "name": "ipython",
    "version": 3
   },
   "file_extension": ".py",
   "mimetype": "text/x-python",
   "name": "python",
   "nbconvert_exporter": "python",
   "pygments_lexer": "ipython3",
   "version": "3.6.0"
  }
 },
 "nbformat": 4,
 "nbformat_minor": 2
}
