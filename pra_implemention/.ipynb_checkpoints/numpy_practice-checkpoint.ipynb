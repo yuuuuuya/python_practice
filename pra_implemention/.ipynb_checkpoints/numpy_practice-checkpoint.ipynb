{
 "cells": [
  {
   "cell_type": "code",
   "execution_count": 4,
   "metadata": {
    "collapsed": true
   },
   "outputs": [],
   "source": [
    "import numpy as np\n",
    "from numpy import*\n",
    "import matplotlib.pyplot as plt\n",
    "%matplotlib inline"
   ]
  },
  {
   "cell_type": "code",
   "execution_count": 14,
   "metadata": {
    "collapsed": false
   },
   "outputs": [
    {
     "data": {
      "text/plain": [
       "array([0, 1, 2, 3, 4, 5, 6, 7, 8, 9])"
      ]
     },
     "execution_count": 14,
     "metadata": {},
     "output_type": "execute_result"
    }
   ],
   "source": [
    "np.array(range(10))\n",
    "#[x for x in range(10)]これでも一緒。"
   ]
  },
  {
   "cell_type": "code",
   "execution_count": 15,
   "metadata": {
    "collapsed": false
   },
   "outputs": [
    {
     "data": {
      "text/plain": [
       "array([  5.,  10.,  15.,  20.,  25.,  30.,  35.,  40.,  45.,  50.,  55.,\n",
       "        60.,  65.,  70.,  75.,  80.,  85.,  90.,  95.])"
      ]
     },
     "execution_count": 15,
     "metadata": {},
     "output_type": "execute_result"
    }
   ],
   "source": [
    "np.arange(start=5,step=5,stop=100,dtype=\"float\")#np.arange(初項,等差,終点,変換)は等差数列を表わす。\n",
    "#int:整数表示。float:浮動小数点。"
   ]
  },
  {
   "cell_type": "code",
   "execution_count": 34,
   "metadata": {
    "collapsed": false
   },
   "outputs": [
    {
     "data": {
      "text/plain": [
       "array([ 0.,  0.,  0.,  0.,  0.])"
      ]
     },
     "execution_count": 34,
     "metadata": {},
     "output_type": "execute_result"
    }
   ],
   "source": [
    "np.zeros(5,dtype=\"float\")#array([ 0.,  0.,  0.,  0.,  0.])を生成。"
   ]
  },
  {
   "cell_type": "code",
   "execution_count": 35,
   "metadata": {
    "collapsed": false
   },
   "outputs": [
    {
     "name": "stdout",
     "output_type": "stream",
     "text": [
      "7\n",
      "9\n",
      "11\n"
     ]
    }
   ],
   "source": [
    "for k in range(3):\n",
    "    B=a[k]+b[k]\n",
    "    print(B)"
   ]
  },
  {
   "cell_type": "code",
   "execution_count": 84,
   "metadata": {
    "collapsed": false
   },
   "outputs": [
    {
     "name": "stdout",
     "output_type": "stream",
     "text": [
      "[ 7  9 11 13 15]\n"
     ]
    }
   ],
   "source": [
    "list= np.zeros(5,dtype=\"int\")\n",
    "\n",
    "a=np.array([1,2,3,4,5])\n",
    "b=np.array([6,7,8,9,10])\n",
    "for k in range(5):\n",
    "    list[k]=a[k]+b[k]#ristのk番目をa[k]+b[k]で置き換える。\n",
    "print(list) "
   ]
  },
  {
   "cell_type": "code",
   "execution_count": 100,
   "metadata": {
    "collapsed": false,
    "scrolled": true
   },
   "outputs": [
    {
     "name": "stdout",
     "output_type": "stream",
     "text": [
      "[ 1.2075248   0.94414099  1.42632402  0.87912285  1.23320702]\n"
     ]
    }
   ],
   "source": [
    "list0=np.zeros(5,dtype=\"float\")\n",
    "\n",
    "a0=np.random.rand(5)#randomで0生成された0~1の間の数字で５つの要素の配列を生成。\n",
    "b0=np.random.rand(5)\n",
    "\n",
    "for k in range(5):\n",
    "    list0[k]=a0[k]+b0[k]\n",
    "print(list0) "
   ]
  },
  {
   "cell_type": "code",
   "execution_count": 87,
   "metadata": {
    "collapsed": false
   },
   "outputs": [
    {
     "name": "stdout",
     "output_type": "stream",
     "text": [
      "[ 1.15613064  0.65223801  0.94035535]\n"
     ]
    }
   ],
   "source": [
    "list1= np.array([0]*3,dtype=\"float\")\n",
    "\n",
    "a1=np.random.uniform(low=0,high=10,size=5)#randomで生成された0~10の間の数字で５つの要の配列を生成。小数あり\n",
    "b1=np.random.randint(low=1,high=10,size=5)#randomで生成された0~10の間の数字で５つの要の配列を生成。整数\n",
    "for k in range(3):\n",
    "    list1[k]=a[k]+b[k]\n",
    "print(list1) "
   ]
  },
  {
   "cell_type": "code",
   "execution_count": 104,
   "metadata": {
    "collapsed": false
   },
   "outputs": [
    {
     "name": "stdout",
     "output_type": "stream",
     "text": [
      "[[  9.31116274  10.1660041    5.73501753   9.16553413  12.48670964]\n",
      " [  2.74871624  12.74997085   9.4151196    9.12462219  13.22037729]\n",
      " [  1.70080565  14.33928402   5.03291398   2.17083927  10.25650206]\n",
      " [ 12.25160464   8.70554119  15.37066691  12.71382928  11.84087487]\n",
      " [  9.47536328  17.99868503   6.07379361  15.4538349   17.09405082]]\n"
     ]
    }
   ],
   "source": [
    "O = np.array([[0]*5 for k in range(5)],dtype='float')\n",
    "\n",
    "a2=np.random.rand(5,5)\n",
    "b2=np.random.uniform(0,10,(5,5))\n",
    "c2=np.random.randint(1,10,(5,5))\n",
    "\n",
    "for i in range(5):\n",
    "        O[i,0] =a2[i,0]+b2[i,0]+c2[i,0]\n",
    "        O[i,1] =a2[i,1]+b2[i,1]+c2[i,1]\n",
    "        O[i,2] =a2[i,2]+b2[i,2]+c2[i,2]\n",
    "        O[i,3] =a2[i,3]+b2[i,3]+c2[i,3]\n",
    "        O[i,4] =a2[i,4]+b2[i,4]+c2[i,4]\n",
    "print(O)"
   ]
  },
  {
   "cell_type": "code",
   "execution_count": 123,
   "metadata": {
    "collapsed": false
   },
   "outputs": [
    {
     "name": "stdout",
     "output_type": "stream",
     "text": [
      "[2 7 7 6 1 4 8 3 5 8]\n",
      "[ 5.  0. -1. -5.  3.  4. -5.  2.  3.]\n",
      "[ 5  0 -1 -5  3  4 -5  2  3]\n",
      "[-5 -1 -4  8  1 -9  7  1]\n",
      "[ 5  0 -1 -5  3  4 -5  2  3]\n",
      "[-5 -1 -4  8  1 -9  7  1]\n"
     ]
    }
   ],
   "source": [
    "A = np.array([np.random.randint(10)for i in range(10)])\n",
    "print(A)\n",
    "\n",
    "res1 = np.array([0]*9,dtype='float')#9個の0で作られた配列を生成。[ 0.  0.  0.  0.  0.  0.  0.  0.  0.]\n",
    "res2 = np.array([0]*8,dtype='float')\n",
    "\n",
    "for i in range(0,len(A)-1):\n",
    "    res1[i] =A[i+1]-A[i]#差分を表わしている（Δ）！！\n",
    "print(res1)\n",
    "    \n",
    "B=np.diff(A)#上の式と一緒\n",
    "C=np.diff(A,n=2)#2回差分\n",
    "print(B)\n",
    "print(C)\n",
    "\n",
    "D=A[1:]-A[0:-1]\n",
    "E=A[2:]-2*A[1:-1]+A[:-2]\n",
    "print(D)\n",
    "print(E)"
   ]
  },
  {
   "cell_type": "code",
   "execution_count": 126,
   "metadata": {
    "collapsed": false
   },
   "outputs": [
    {
     "name": "stdout",
     "output_type": "stream",
     "text": [
      "[2 7 7 6 1 4 8 3 5 8]\n",
      "[7 7 6 1 4 8 3 5 8]\n",
      "[2 7 7 6 1 4 8 3 5]\n",
      "[7 6 1 4 8 3 5 8]\n",
      "[7 7 6 1 4 8 3 5]\n",
      "[2 7 7 6 1 4 8 3]\n"
     ]
    }
   ],
   "source": [
    "print(A)\n",
    "print(A[1:])#一番左の項を消し、あらたな数列とする。\n",
    "print(A[0:-1])#一番右の項を消し、新たな数列とする。\n",
    "\n",
    "print(A[2:])#左2項を消し新たな数列とする。\n",
    "print(A[1:-1])#一番左と右の項を消し、新たな数列とする。\n",
    "print(A[:-2])#右から2項を消し、新たな数列とする。"
   ]
  },
  {
   "cell_type": "markdown",
   "metadata": {},
   "source": [
    "参考URL：http://japanichaos.appspot.com/NumpyArray.html"
   ]
  }
 ],
 "metadata": {
  "kernelspec": {
   "display_name": "Python 3",
   "language": "python",
   "name": "python3"
  },
  "language_info": {
   "codemirror_mode": {
    "name": "ipython",
    "version": 3
   },
   "file_extension": ".py",
   "mimetype": "text/x-python",
   "name": "python",
   "nbconvert_exporter": "python",
   "pygments_lexer": "ipython3",
   "version": "3.6.0"
  }
 },
 "nbformat": 4,
 "nbformat_minor": 2
}
