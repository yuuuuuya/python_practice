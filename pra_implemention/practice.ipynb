{
 "cells": [
  {
   "cell_type": "code",
   "execution_count": 2,
   "metadata": {
    "collapsed": false
   },
   "outputs": [
    {
     "data": {
      "text/plain": [
       "<module 'util' from '../src\\\\util.py'>"
      ]
     },
     "execution_count": 2,
     "metadata": {},
     "output_type": "execute_result"
    }
   ],
   "source": [
    "import sys\n",
    "sys.path.append('../src/')\n",
    "import util as util\n",
    "import imp\n",
    "imp.reload(util)"
   ]
  },
  {
   "cell_type": "code",
   "execution_count": 3,
   "metadata": {
    "collapsed": true
   },
   "outputs": [],
   "source": [
    "ub = 0.7\n",
    "lb= 0.3"
   ]
  },
  {
   "cell_type": "code",
   "execution_count": 4,
   "metadata": {
    "collapsed": true
   },
   "outputs": [],
   "source": [
    "unko = np.random.uniform(low = 0, high = 1., size = 20)#ランダムで選んだ0~1の間の数で２０個の要素を持つ配列を作る。\n",
    "\n",
    "def capsize(val, ub, lb):\n",
    "        val = np.min([ub, val])#ubよりも大きい値は、ubとする。\n",
    "        val = np.max([lb, val])#lbよりも小さい値は、lbとする。\n",
    "        return val\n",
    "capsized = np.array([capsize(unko[k],ub,lb) for k in range(len(unko))])"
   ]
  },
  {
   "cell_type": "code",
   "execution_count": 5,
   "metadata": {
    "collapsed": false
   },
   "outputs": [
    {
     "name": "stdout",
     "output_type": "stream",
     "text": [
      "[ 0.9656999   0.60658458  0.64660453  0.56149173  0.60124571  0.95036839\n",
      "  0.5398581   0.99614326  0.7595162   0.63858538  0.26405174  0.35106803\n",
      "  0.09830635  0.23576351  0.8209488   0.26503864  0.48369012  0.98521754\n",
      "  0.9435096   0.85155889]\n"
     ]
    }
   ],
   "source": [
    "print(unko)"
   ]
  },
  {
   "cell_type": "code",
   "execution_count": 6,
   "metadata": {
    "collapsed": false
   },
   "outputs": [
    {
     "name": "stdout",
     "output_type": "stream",
     "text": [
      "[ 0.7         0.60658458  0.64660453  0.56149173  0.60124571  0.7\n",
      "  0.5398581   0.7         0.7         0.63858538  0.3         0.35106803\n",
      "  0.3         0.3         0.7         0.3         0.48369012  0.7         0.7\n",
      "  0.7       ]\n"
     ]
    }
   ],
   "source": [
    "print(capsized)"
   ]
  },
  {
   "cell_type": "code",
   "execution_count": 8,
   "metadata": {
    "collapsed": true
   },
   "outputs": [],
   "source": [
    "def unkoman(val):\n",
    "    return val**3\n",
    "#unkoman(val)という関数を定義。"
   ]
  },
  {
   "cell_type": "code",
   "execution_count": 9,
   "metadata": {
    "collapsed": false
   },
   "outputs": [
    {
     "data": {
      "text/plain": [
       "343"
      ]
     },
     "execution_count": 9,
     "metadata": {},
     "output_type": "execute_result"
    }
   ],
   "source": [
    "unkoman(7)"
   ]
  },
  {
   "cell_type": "code",
   "execution_count": null,
   "metadata": {
    "collapsed": true
   },
   "outputs": [],
   "source": []
  }
 ],
 "metadata": {
  "kernelspec": {
   "display_name": "Python 3",
   "language": "python",
   "name": "python3"
  },
  "language_info": {
   "codemirror_mode": {
    "name": "ipython",
    "version": 3
   },
   "file_extension": ".py",
   "mimetype": "text/x-python",
   "name": "python",
   "nbconvert_exporter": "python",
   "pygments_lexer": "ipython3",
   "version": "3.6.0"
  }
 },
 "nbformat": 4,
 "nbformat_minor": 0
}
