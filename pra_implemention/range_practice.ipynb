{
 "cells": [
  {
   "cell_type": "code",
   "execution_count": 2,
   "metadata": {
    "collapsed": false
   },
   "outputs": [],
   "source": [
    "import numpy as np\n",
    "import matplotlib.pyplot as plt\n",
    "%matplotlib inline"
   ]
  },
  {
   "cell_type": "code",
   "execution_count": 4,
   "metadata": {
    "collapsed": false
   },
   "outputs": [
    {
     "name": "stdout",
     "output_type": "stream",
     "text": [
      "0 th step exponential is 71.4\n",
      "1 th step exponential is 72.828\n",
      "2 th step exponential is 74.28456\n",
      "3 th step exponential is 75.7702512\n",
      "4 th step exponential is 77.28565622400001\n",
      "5 th step exponential is 78.83136934848001\n",
      "6 th step exponential is 80.40799673544961\n",
      "7 th step exponential is 82.01615667015861\n",
      "8 th step exponential is 83.65647980356178\n",
      "9 th step exponential is 85.32960939963301\n"
     ]
    },
    {
     "data": {
      "text/plain": [
       "[<matplotlib.lines.Line2D at 0x1a825860278>]"
      ]
     },
     "execution_count": 4,
     "metadata": {},
     "output_type": "execute_result"
    },
    {
     "data": {
      "image/png": "[encoded data removed]",
      "text/plain": [
       "<matplotlib.figure.Figure at 0x1a82547a198>"
      ]
     },
     "metadata": {},
     "output_type": "display_data"
    }
   ],
   "source": [
    "val = 70\n",
    "p = 0.02\n",
    "loopnum = 10\n",
    "record= np.zeros(loopnum) \n",
    "\n",
    "for k in range(loopnum):\n",
    "    val *=(1+p)\n",
    "    record[k] = 1/ (1+val**k)\n",
    "    print(\"%s th step exponential is %s\"%(k,val))\n",
    "    \n",
    "idx = np.array(range(loopnum))\n",
    "plt.plot(idx, record)"
   ]
  },
  {
   "cell_type": "code",
   "execution_count": 7,
   "metadata": {
    "collapsed": false
   },
   "outputs": [
    {
     "name": "stdout",
     "output_type": "stream",
     "text": [
      "0 回目の引き算の結果 68.98\n",
      "100 回目の引き算の結果 -33.02000000000006\n",
      "200 回目の引き算の結果 -135.01999999999998\n",
      "300 回目の引き算の結果 -237.020000000001\n",
      "400 回目の引き算の結果 -339.0199999999997\n",
      "500 回目の引き算の結果 -441.0199999999979\n",
      "600 回目の引き算の結果 -543.0199999999961\n",
      "700 回目の引き算の結果 -645.0199999999943\n",
      "800 回目の引き算の結果 -747.0199999999925\n",
      "900 回目の引き算の結果 -849.0199999999907\n",
      "1000 回目の引き算の結果 -951.0199999999888\n",
      "1100 回目の引き算の結果 -1053.019999999987\n",
      "1200 回目の引き算の結果 -1155.0199999999852\n",
      "1300 回目の引き算の結果 -1257.0199999999834\n",
      "1400 回目の引き算の結果 -1359.0199999999816\n",
      "1500 回目の引き算の結果 -1461.0199999999797\n",
      "1600 回目の引き算の結果 -1563.019999999978\n",
      "1700 回目の引き算の結果 -1665.019999999976\n",
      "1800 回目の引き算の結果 -1767.0199999999743\n",
      "1900 回目の引き算の結果 -1869.0199999999725\n"
     ]
    }
   ],
   "source": [
    "val = 70\n",
    "p = 0.02\n",
    "loopNum = 2000\n",
    "for k in range(loopNum):\n",
    "    val -=(1+p)\n",
    "    if( np.mod(k, 100) == 0 ):\n",
    "        print(\"%s 回目の引き算の結果 %s\"%(k,val))"
   ]
  },
  {
   "cell_type": "code",
   "execution_count": null,
   "metadata": {
    "collapsed": true
   },
   "outputs": [],
   "source": []
  }
 ],
 "metadata": {
  "kernelspec": {
   "display_name": "Python 3",
   "language": "python",
   "name": "python3"
  },
  "language_info": {
   "codemirror_mode": {
    "name": "ipython",
    "version": 3
   },
   "file_extension": ".py",
   "mimetype": "text/x-python",
   "name": "python",
   "nbconvert_exporter": "python",
   "pygments_lexer": "ipython3",
   "version": "3.6.0"
  }
 },
 "nbformat": 4,
 "nbformat_minor": 2
}
